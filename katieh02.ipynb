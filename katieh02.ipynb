{
 "cells": [
  {
   "cell_type": "code",
   "execution_count": null,
   "metadata": {},
   "outputs": [],
   "source": [
    "#print full name functon\n",
    "def print_full_name(first,last):\n",
    "    print('Hello ' + first,last + ' we are going to have an adventure!')\n",
    "first_name = 'Katie'\n",
    "last_name = 'DeLuka'\n",
    "print_full_name(first_name, last_name)"
   ]
  },
  {
   "cell_type": "code",
   "execution_count": null,
   "metadata": {},
   "outputs": [],
   "source": [
    "import math\n",
    "import os\n",
    "import random\n",
    "import re\n",
    "import sys\n",
    "\n",
    "if __name__ == '__main__':\n",
    "    list_num = [3,4,6,10,20,24,60]\n",
    "    for n in list_num:\n",
    "        if n%2 != 0:\n",
    "            print(\"Weird\")\n",
    "        else :\n",
    "            if(n>=2 and n<=5):\n",
    "                print(\"Not Weird\")\n",
    "            elif(n>=6 and n<=20):\n",
    "                print(\"Weird\")\n",
    "            elif(n>20):\n",
    "                print(\"Not Weird\")"
   ]
  },
  {
   "cell_type": "code",
   "execution_count": null,
   "metadata": {},
   "outputs": [],
   "source": [
    "#part 3\n",
    "arr = [4,6,8,9]\n",
    "\n",
    "for x in arr:\n",
    "    print(*range(1, x+1), sep= '')"
   ]
  },
  {
   "cell_type": "code",
   "execution_count": 146,
   "metadata": {},
   "outputs": [
    {
     "name": "stdin",
     "output_type": "stream",
     "text": [
      " 5\n",
      " Harry\n",
      " 37.21\n",
      " Barry\n",
      " 37.21\n",
      " Tina\n",
      " 37.2\n",
      " Akriti\n",
      " 41\n",
      " Harsh\n",
      " 39\n"
     ]
    },
    {
     "name": "stdout",
     "output_type": "stream",
     "text": [
      "Barry\n",
      "Harry\n"
     ]
    }
   ],
   "source": [
    "#part4\n",
    "#enter the data in the input boxes\n",
    "\n",
    "n=int(input())\n",
    "arr=[[input(),float(input())] for _ in range(0,n)]\n",
    "\n",
    "arr.sort(key=lambda x: (x[1],x[0]))\n",
    "names = [i[0] for i in arr]\n",
    "marks = [i[1] for i in arr]\n",
    "min_val=min(marks)\n",
    "while marks[0]==min_val:\n",
    "    marks.remove(marks[0])\n",
    "    names.remove(names[0])    \n",
    "for x in range(0,len(marks)):\n",
    "    if marks[x]==min(marks):\n",
    "        print(names[x])"
   ]
  },
  {
   "cell_type": "code",
   "execution_count": null,
   "metadata": {},
   "outputs": [],
   "source": [
    "\n"
   ]
  },
  {
   "cell_type": "code",
   "execution_count": null,
   "metadata": {},
   "outputs": [],
   "source": []
  }
 ],
 "metadata": {
  "kernelspec": {
   "display_name": "Python 3",
   "language": "python",
   "name": "python3"
  },
  "language_info": {
   "codemirror_mode": {
    "name": "ipython",
    "version": 3
   },
   "file_extension": ".py",
   "mimetype": "text/x-python",
   "name": "python",
   "nbconvert_exporter": "python",
   "pygments_lexer": "ipython3",
   "version": "3.8.5"
  }
 },
 "nbformat": 4,
 "nbformat_minor": 4
}
